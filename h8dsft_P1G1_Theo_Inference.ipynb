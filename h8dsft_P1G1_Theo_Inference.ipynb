{
 "cells": [
  {
   "cell_type": "markdown",
   "metadata": {},
   "source": [
    "## I. Import Library"
   ]
  },
  {
   "cell_type": "code",
   "execution_count": 1,
   "metadata": {},
   "outputs": [],
   "source": [
    "# Import library\n",
    "\n",
    "import pandas as pd\n",
    "import numpy as np\n",
    "import pickle\n",
    "import json"
   ]
  },
  {
   "cell_type": "markdown",
   "metadata": {},
   "source": [
    "## II. Load Model"
   ]
  },
  {
   "cell_type": "code",
   "execution_count": 2,
   "metadata": {},
   "outputs": [],
   "source": [
    "# Load all files\n",
    "\n",
    "with open('list_cat_cols.txt', 'r') as file_1:\n",
    "  list_cat_cols = json.load(file_1)\n",
    "\n",
    "with open('list_num_cols.txt', 'r') as file_2:\n",
    "  list_num_cols = json.load(file_2)\n",
    "\n",
    "with open('model_scaler.pkl', 'rb') as file_3:\n",
    "  scaler = pickle.load(file_3)\n",
    "\n",
    "with open('model_encoder.pkl', 'rb') as file_4:\n",
    "  encoder = pickle.load(file_4)\n",
    "\n",
    "with open('model_lin_reg.pkl', 'rb') as file_5:\n",
    "  model_lin_reg = pickle.load(file_5)"
   ]
  },
  {
   "cell_type": "markdown",
   "metadata": {},
   "source": [
    "## III. Inferencing"
   ]
  },
  {
   "cell_type": "code",
   "execution_count": 3,
   "metadata": {},
   "outputs": [
    {
     "data": {
      "text/html": [
       "<div>\n",
       "<style scoped>\n",
       "    .dataframe tbody tr th:only-of-type {\n",
       "        vertical-align: middle;\n",
       "    }\n",
       "\n",
       "    .dataframe tbody tr th {\n",
       "        vertical-align: top;\n",
       "    }\n",
       "\n",
       "    .dataframe thead th {\n",
       "        text-align: right;\n",
       "    }\n",
       "</style>\n",
       "<table border=\"1\" class=\"dataframe\">\n",
       "  <thead>\n",
       "    <tr style=\"text-align: right;\">\n",
       "      <th></th>\n",
       "      <th>hour</th>\n",
       "      <th>day</th>\n",
       "      <th>distance</th>\n",
       "      <th>temperature</th>\n",
       "      <th>cab_type</th>\n",
       "      <th>name</th>\n",
       "    </tr>\n",
       "  </thead>\n",
       "  <tbody>\n",
       "    <tr>\n",
       "      <th>0</th>\n",
       "      <td>6.0</td>\n",
       "      <td>30.0</td>\n",
       "      <td>1.11</td>\n",
       "      <td>40.13</td>\n",
       "      <td>Uber</td>\n",
       "      <td>Black</td>\n",
       "    </tr>\n",
       "    <tr>\n",
       "      <th>1</th>\n",
       "      <td>12.0</td>\n",
       "      <td>1.0</td>\n",
       "      <td>19.40</td>\n",
       "      <td>12.10</td>\n",
       "      <td>Lyft</td>\n",
       "      <td>Lyft XL</td>\n",
       "    </tr>\n",
       "    <tr>\n",
       "      <th>2</th>\n",
       "      <td>8.0</td>\n",
       "      <td>9.0</td>\n",
       "      <td>12.20</td>\n",
       "      <td>35.10</td>\n",
       "      <td>Uber</td>\n",
       "      <td>UberPool</td>\n",
       "    </tr>\n",
       "    <tr>\n",
       "      <th>3</th>\n",
       "      <td>10.0</td>\n",
       "      <td>10.0</td>\n",
       "      <td>3.90</td>\n",
       "      <td>18.15</td>\n",
       "      <td>Lyft</td>\n",
       "      <td>Lux Black</td>\n",
       "    </tr>\n",
       "    <tr>\n",
       "      <th>4</th>\n",
       "      <td>16.0</td>\n",
       "      <td>15.0</td>\n",
       "      <td>2.70</td>\n",
       "      <td>45.10</td>\n",
       "      <td>Uber</td>\n",
       "      <td>UberX</td>\n",
       "    </tr>\n",
       "  </tbody>\n",
       "</table>\n",
       "</div>"
      ],
      "text/plain": [
       "   hour   day  distance  temperature cab_type       name\n",
       "0   6.0  30.0      1.11        40.13     Uber      Black\n",
       "1  12.0   1.0     19.40        12.10     Lyft    Lyft XL\n",
       "2   8.0   9.0     12.20        35.10     Uber   UberPool\n",
       "3  10.0  10.0      3.90        18.15     Lyft  Lux Black\n",
       "4  16.0  15.0      2.70        45.10     Uber      UberX"
      ]
     },
     "execution_count": 3,
     "metadata": {},
     "output_type": "execute_result"
    }
   ],
   "source": [
    "#Create new data\n",
    "\n",
    "data_inf = pd.DataFrame({\n",
    "    'hour'          : [6.0, 12.0, 8.0, 10.0, 16.0],\n",
    "    'day'           : [30.0, 1.0, 9.0, 10.0, 15.0],\n",
    "    'distance'      : [1.11, 19.4, 12.2, 3.9, 2.7],\n",
    "    'temperature'   : [40.13, 12.10, 35.10, 18.15, 45.10],\n",
    "    'cab_type'      : ['Uber', 'Lyft', 'Uber', 'Lyft', 'Uber'],\n",
    "    'name'          : ['Black', 'Lyft XL', 'UberPool', 'Lux Black', 'UberX']\n",
    "})\n",
    "\n",
    "#data_inf = pd.DataFrame([data_inf])\n",
    "data_inf"
   ]
  },
  {
   "cell_type": "code",
   "execution_count": 4,
   "metadata": {},
   "outputs": [
    {
     "data": {
      "text/html": [
       "<div>\n",
       "<style scoped>\n",
       "    .dataframe tbody tr th:only-of-type {\n",
       "        vertical-align: middle;\n",
       "    }\n",
       "\n",
       "    .dataframe tbody tr th {\n",
       "        vertical-align: top;\n",
       "    }\n",
       "\n",
       "    .dataframe thead th {\n",
       "        text-align: right;\n",
       "    }\n",
       "</style>\n",
       "<table border=\"1\" class=\"dataframe\">\n",
       "  <thead>\n",
       "    <tr style=\"text-align: right;\">\n",
       "      <th></th>\n",
       "      <th>hour</th>\n",
       "      <th>day</th>\n",
       "      <th>distance</th>\n",
       "      <th>temperature</th>\n",
       "    </tr>\n",
       "  </thead>\n",
       "  <tbody>\n",
       "    <tr>\n",
       "      <th>0</th>\n",
       "      <td>6.0</td>\n",
       "      <td>30.0</td>\n",
       "      <td>1.11</td>\n",
       "      <td>40.13</td>\n",
       "    </tr>\n",
       "    <tr>\n",
       "      <th>1</th>\n",
       "      <td>12.0</td>\n",
       "      <td>1.0</td>\n",
       "      <td>19.40</td>\n",
       "      <td>12.10</td>\n",
       "    </tr>\n",
       "    <tr>\n",
       "      <th>2</th>\n",
       "      <td>8.0</td>\n",
       "      <td>9.0</td>\n",
       "      <td>12.20</td>\n",
       "      <td>35.10</td>\n",
       "    </tr>\n",
       "    <tr>\n",
       "      <th>3</th>\n",
       "      <td>10.0</td>\n",
       "      <td>10.0</td>\n",
       "      <td>3.90</td>\n",
       "      <td>18.15</td>\n",
       "    </tr>\n",
       "    <tr>\n",
       "      <th>4</th>\n",
       "      <td>16.0</td>\n",
       "      <td>15.0</td>\n",
       "      <td>2.70</td>\n",
       "      <td>45.10</td>\n",
       "    </tr>\n",
       "  </tbody>\n",
       "</table>\n",
       "</div>"
      ],
      "text/plain": [
       "   hour   day  distance  temperature\n",
       "0   6.0  30.0      1.11        40.13\n",
       "1  12.0   1.0     19.40        12.10\n",
       "2   8.0   9.0     12.20        35.10\n",
       "3  10.0  10.0      3.90        18.15\n",
       "4  16.0  15.0      2.70        45.10"
      ]
     },
     "execution_count": 4,
     "metadata": {},
     "output_type": "execute_result"
    }
   ],
   "source": [
    "# Split between numerical columns and categorical columns\n",
    "\n",
    "data_inf_num = data_inf[list_num_cols]\n",
    "data_inf_cat = data_inf[list_cat_cols]\n",
    "data_inf_num"
   ]
  },
  {
   "cell_type": "code",
   "execution_count": 5,
   "metadata": {},
   "outputs": [],
   "source": [
    "# Feature scaling and feature encoding\n",
    "\n",
    "data_inf_num_scaled = scaler.transform(data_inf_num)\n",
    "data_inf_cat_encoded = encoder.transform(data_inf_cat)\n",
    "data_inf_final = np.concatenate([data_inf_num_scaled, data_inf_cat_encoded], axis = 1)"
   ]
  },
  {
   "cell_type": "code",
   "execution_count": 6,
   "metadata": {},
   "outputs": [
    {
     "data": {
      "text/plain": [
       "array([17.30534073, 65.30430286, 37.95213193, 28.00740701, 11.35682521])"
      ]
     },
     "execution_count": 6,
     "metadata": {},
     "output_type": "execute_result"
    }
   ],
   "source": [
    "# Predict using Linear Regression\n",
    "\n",
    "y_pred_inf = model_lin_reg.predict(data_inf_final)\n",
    "y_pred_inf"
   ]
  }
 ],
 "metadata": {
  "kernelspec": {
   "display_name": "base",
   "language": "python",
   "name": "python3"
  },
  "language_info": {
   "codemirror_mode": {
    "name": "ipython",
    "version": 3
   },
   "file_extension": ".py",
   "mimetype": "text/x-python",
   "name": "python",
   "nbconvert_exporter": "python",
   "pygments_lexer": "ipython3",
   "version": "3.10.10"
  },
  "orig_nbformat": 4
 },
 "nbformat": 4,
 "nbformat_minor": 2
}
